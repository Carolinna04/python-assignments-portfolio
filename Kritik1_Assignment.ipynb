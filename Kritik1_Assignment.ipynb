{
 "cells": [
  {
   "cell_type": "code",
   "id": "d90c6da3-b772-495c-8fa2-b1fe260957be",
   "metadata": {
    "ExecuteTime": {
     "end_time": "2025-03-30T22:36:34.547952Z",
     "start_time": "2025-03-30T22:36:23.599965Z"
    }
   },
   "source": [
    "x = float(input(\"Enter your number: \"))\n",
    "\n",
    "def function(x):\n",
    "    if x>=0 and x<=1:\n",
    "        def error(a,b):\n",
    "            y = (a**((2*b)+1))/((2*b)+1)\n",
    "            return y\n",
    "        n=0\n",
    "        while error(x,n) > 0.0001:\n",
    "            n += 1\n",
    "        running=0\n",
    "        for i in range(n):\n",
    "            current = (((-1)**i)*(x**((2*i)+1)))/((2*i)+1)\n",
    "            running += current\n",
    "        return running\n",
    "        \n",
    "    else:\n",
    "        print(\"Error!\")\n",
    "    \n",
    "\n",
    "print(function(x))"
   ],
   "outputs": [
    {
     "name": "stdout",
     "output_type": "stream",
     "text": [
      "Error!\n",
      "None\n"
     ]
    }
   ],
   "execution_count": 2
  }
 ],
 "metadata": {
  "kernelspec": {
   "display_name": "Python 3 (ipykernel)",
   "language": "python",
   "name": "python3"
  },
  "language_info": {
   "codemirror_mode": {
    "name": "ipython",
    "version": 3
   },
   "file_extension": ".py",
   "mimetype": "text/x-python",
   "name": "python",
   "nbconvert_exporter": "python",
   "pygments_lexer": "ipython3",
   "version": "3.11.9"
  }
 },
 "nbformat": 4,
 "nbformat_minor": 5
}
