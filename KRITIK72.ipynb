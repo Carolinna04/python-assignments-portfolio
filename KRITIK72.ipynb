{
 "cells": [
  {
   "cell_type": "code",
   "execution_count": 4,
   "id": "d08c82a2-817d-41a8-a96a-296d7bc1ffd9",
   "metadata": {},
   "outputs": [
    {
     "name": "stdout",
     "output_type": "stream",
     "text": [
      "82.382\n",
      "10.193467189005581\n",
      "2.290087686017293\n",
      "2.2522252225222523\n",
      "False\n"
     ]
    }
   ],
   "source": [
    "import numpy as np\n",
    "from scipy.special import gamma\n",
    "import math\n",
    "\n",
    "# Goal: Test whether the true average score (µ) associated with this new teaching technique is the same as the national average µ0 = 75.\n",
    "\n",
    "#STEP 1: \n",
    "#Write a function using only standard arithmetic operations to compute the mean and standard deviation of a list of numerical data. \n",
    "#You may use the len() function to obtain your sample size.\n",
    "#CODE:\n",
    "\n",
    "def mean_value(scores):\n",
    "    return sum(scores)/ len(scores)\n",
    "def standard_dev(scores):\n",
    "    mean = mean_value(scores)\n",
    "    diff_squared = [(i - mean)**2 for i in scores]\n",
    "    variance = sum(diff_squared)/ (len(scores) - 1)\n",
    "    return math.sqrt(variance)\n",
    "        \n",
    "# Now calculate for given scores:\n",
    "students_test_scores = [92.64,79.00,84.79,97.41,93.68,65.23,84.50,73.49,73.97,79.11]\n",
    "\n",
    "print(mean_value(students_test_scores))\n",
    "print(standard_dev(students_test_scores))\n",
    "\n",
    "# STEP 2: Write a function that takes the output of the previous function and computes a value of t0.\n",
    "# given national average µ0 = 75.\n",
    "\n",
    "def finding_t0 (scores):\n",
    "    return (mean_value(scores) - national_average) / (standard_dev(scores)/ math.sqrt(len(scores)))\n",
    "\n",
    "# Now calculate for given scores:\n",
    "national_average = 75\n",
    "print(finding_t0 (students_test_scores))\n",
    "\n",
    "\n",
    "# STEP 3: To find the value t∗\n",
    "def t_distribution_pdf(x, nu): \n",
    "    coeff = gamma((nu + 1) / 2) / (np.sqrt(nu * np.pi) * gamma(nu / 2)) \n",
    "    density = coeff * (1 + x**2 / nu) ** (-0.5 * (nu + 1)) \n",
    "    return density\n",
    "\n",
    "def find_t_star(prob, nu, x_start=0, x_end=20, num_points=10000):\n",
    "\n",
    "    # Define the x values \n",
    "    x = np.linspace(x_start, x_end, num_points) \n",
    "    # Apply the density function to the x values \n",
    "    y = t_distribution_pdf(x, nu)\n",
    "    # This next line is the integration (exercise: why does this work?)\n",
    "    cdf = np.cumsum(y) * (x[1]- x[0]) \n",
    "    # Find the t-value where the cumulative probability reaches half of the required probability \n",
    "    target_half_prob = prob / 2 \n",
    "    index = np.where(cdf >= target_half_prob)[0][0] \n",
    "    return x[index]\n",
    "\n",
    "# Now calculate for given scores:\n",
    "nu = 9  # Degrees of freedom ( n-1 for a sample size of 10)\n",
    "prob = 0.95  # Desired cumulative probability (for two-tailed test)\n",
    "t_star = find_t_star(prob, nu)\n",
    "\n",
    "print(t_star)\n",
    "\n",
    "# STEP 4: Write a function that takes in the value t∗ and the value t0 and 6returns True if t0 ∈ [−t∗,t∗] and false otherwise.\n",
    "def is_t0_in_range(t_star, t_0):\n",
    "    if t_0 <= t_star and t_0 >= - t_star:\n",
    "        return True\n",
    "    else:\n",
    "        return False\n",
    " \n",
    "t_0 = finding_t0 (students_test_scores)\n",
    "print(is_t0_in_range(t_star, t_0))"
   ]
  },
  {
   "cell_type": "code",
   "execution_count": null,
   "id": "a93d1958-1613-4cf1-b0f6-607f6d6dc718",
   "metadata": {},
   "outputs": [],
   "source": [
    "if is_t0_in_range(t_star, t_0) == False and t_0 > 0:\n",
    "    print( \"New teaching technique is beneficial!\")\n",
    "if is_t0_in_range(t_star, t_0) == False and t_0 < 0:\n",
    "    print( \"New teaching technique is detrimental!\")"
   ]
  }
 ],
 "metadata": {
  "kernelspec": {
   "display_name": "Python 3 (ipykernel)",
   "language": "python",
   "name": "python3"
  },
  "language_info": {
   "codemirror_mode": {
    "name": "ipython",
    "version": 3
   },
   "file_extension": ".py",
   "mimetype": "text/x-python",
   "name": "python",
   "nbconvert_exporter": "python",
   "pygments_lexer": "ipython3",
   "version": "3.12.8"
  }
 },
 "nbformat": 4,
 "nbformat_minor": 5
}
