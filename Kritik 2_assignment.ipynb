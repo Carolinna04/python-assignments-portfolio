{
 "cells": [
  {
   "cell_type": "code",
   "execution_count": 1,
   "id": "2863b5c9-8cf0-4dce-9632-26cb26b7b30e",
   "metadata": {},
   "outputs": [],
   "source": [
    "import matplotlib.pyplot as plt \n",
    "%matplotlib inline\n",
    "import pandas as pd  \n",
    "import numpy as np"
   ]
  },
  {
   "cell_type": "code",
   "execution_count": 4,
   "id": "e5f2a0a5-f796-4f80-9672-4cd4f68e77f7",
   "metadata": {},
   "outputs": [
    {
     "name": "stdout",
     "output_type": "stream",
     "text": [
      "Test case 1: Root found at x = 0.2698741375\n",
      "Test case 2: The function must have opposite signs at a and b.\n",
      "Test case 3: The function must have opposite signs at a and b.\n",
      "Test case 4: The function must have opposite signs at a and b.\n"
     ]
    }
   ],
   "source": [
    "def roots(f, a, b, tol=1e-10): #tol=1e-10 -> this keeps the solutions with up to 10 decimal places\n",
    "    if f(a) * f(b) >= 0: \n",
    "        raise ValueError(\"The function must have opposite signs at a and b.\")\n",
    "    \n",
    "    while (b - a) / 2 > tol:\n",
    "        midpoint = (a + b) / 2\n",
    "        if f(midpoint) == 0:  \n",
    "            return midpoint\n",
    "        elif f(a) * f(midpoint) < 0:  \n",
    "            b = midpoint\n",
    "        else:  \n",
    "            a = midpoint\n",
    "            \n",
    "    return (a + b) / 2  \n",
    "    \n",
    "# Test cases\n",
    "if __name__ == \"__main__\":\n",
    "    \n",
    "    # Test 1: f(x) = e^x + ln(x) on [0, 1]\n",
    "    def test_case_1(x):\n",
    "        return np.exp(x) + np.log(x)  # Note: log(0) is undefined\n",
    "\n",
    "    # Test 2: f(x) = arctan(x) - x^2 on [0, 2]\n",
    "    def test_case_2(x):\n",
    "        return np.arctan(x) - x**2\n",
    "\n",
    "    # Test 3: f(x) = sin(x) - ln(x) on [3, 4]\n",
    "    def test_case_3(x):\n",
    "        return np.sin(x) - np.log(x)\n",
    "\n",
    "    # Test 4: f(x) = ln(cos(x)) on [5, 7]\n",
    "    def test_case_4(x):\n",
    "        return np.log(np.cos(x))\n",
    "\n",
    "    \n",
    "    test_cases = [\n",
    "        (test_case_1, 0.1, 0.9),  # Adjusted to avoid log(0)\n",
    "        (test_case_2, 0, 2),\n",
    "        (test_case_3, 3, 4),\n",
    "        (test_case_4, 5, 7)\n",
    "    ]\n",
    "\n",
    "    \n",
    "    for i, (func, a, b) in enumerate(test_cases):\n",
    "        try:\n",
    "            root = roots(func, a, b)\n",
    "            print(f\"Test case {i + 1}: Root found at x = {root:.10f}\")\n",
    "        except ValueError as e:\n",
    "            print(f\"Test case {i + 1}: {e}\")"
   ]
  }
 ],
 "metadata": {
  "kernelspec": {
   "display_name": "Python 3 (ipykernel)",
   "language": "python",
   "name": "python3"
  },
  "language_info": {
   "codemirror_mode": {
    "name": "ipython",
    "version": 3
   },
   "file_extension": ".py",
   "mimetype": "text/x-python",
   "name": "python",
   "nbconvert_exporter": "python",
   "pygments_lexer": "ipython3",
   "version": "3.11.9"
  }
 },
 "nbformat": 4,
 "nbformat_minor": 5
}
