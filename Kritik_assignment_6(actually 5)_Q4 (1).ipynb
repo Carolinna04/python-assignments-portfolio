{
 "cells": [
  {
   "cell_type": "code",
   "execution_count": 3,
   "id": "5cf9ae58-4bea-45a6-af71-fe1ffc120852",
   "metadata": {},
   "outputs": [
    {
     "name": "stdin",
     "output_type": "stream",
     "text": [
      "Enter the x-coordinate of the seed point:  1\n",
      "Enter the y-coordinate of the seed point:  0\n"
     ]
    },
    {
     "name": "stdout",
     "output_type": "stream",
     "text": [
      "Valid seed point entered.\n"
     ]
    },
    {
     "name": "stdin",
     "output_type": "stream",
     "text": [
      "Enter the number of steps:  1000\n"
     ]
    },
    {
     "name": "stdout",
     "output_type": "stream",
     "text": [
      "Number of steps set to 1000.\n"
     ]
    },
    {
     "data": {
      "image/png": "[encoded data removed]",
      "text/plain": [
       "<Figure size 640x480 with 1 Axes>"
      ]
     },
     "metadata": {},
     "output_type": "display_data"
    }
   ],
   "source": [
    "import matplotlib.pyplot as plt\n",
    "import random\n",
    "\n",
    "# TODO: Implement the Chaos Game algorithm\n",
    "# 1. Initialize a random seed point within the triangle\n",
    "# 2. Roll the die and move the point half the distance to the chosen vertex.\n",
    "# 3. Repeat and collect the points in a list\n",
    "# (Remember to start plotting points after a dozen rolls)\n",
    "# Initialize the vertices of the triangle and the plot\n",
    "# Vertices of an equilateral triangle\n",
    "vertices = [(0, 0), (1, 0), (0.5, 0.866)]\n",
    "\n",
    "# A function to check whether point (x, y) lies inside the triangle formed by A1, A2, A3\n",
    "def isInside(x1, y1, x2, y2, x3, y3, x, y):\n",
    "    def area(x1, y1, x2, y2, x3, y3):\n",
    "        return abs((x1*(y2 - y3) + x2*(y3 - y1) + x3*(y1 - y2)) / 2.0)\n",
    "    A = area(x1, y1, x2, y2, x3, y3)\n",
    "    A1 = area(x, y, x2, y2, x3, y3)\n",
    "    A2 = area(x1, y1, x, y, x3, y3)\n",
    "    A3 = area(x1, y1, x2, y2, x, y)\n",
    "    return A == A1 + A2 + A3\n",
    "\n",
    "# Prompting the user for a seed point\n",
    "while True:\n",
    "    try:\n",
    "        seed_x = float(input(\"Enter the x-coordinate of the seed point: \"))\n",
    "        seed_y = float(input(\"Enter the y-coordinate of the seed point: \"))\n",
    "        if isInside(0, 0, 1, 0, 0.5, 0.866, seed_x, seed_y):\n",
    "            print(\"Valid seed point entered.\")\n",
    "            break\n",
    "        else:\n",
    "            print(\"The point is not inside the triangle. Please try again.\")\n",
    "    except ValueError:\n",
    "        print(\"Invalid input. Please enter numerical values.\")\n",
    "\n",
    "# This is your starting point\n",
    "seed = (seed_x, seed_y)\n",
    "\n",
    "# Initialize a list where you will store your points (x_t, y_t), starting with your seed\n",
    "points = [seed]\n",
    "\n",
    "# Prompting the user for the number of steps\n",
    "while True:\n",
    "    try:\n",
    "        num_steps = int(input(\"Enter the number of steps: \"))\n",
    "        if num_steps > 0:\n",
    "            print(f\"Number of steps set to {num_steps}.\")\n",
    "            break\n",
    "        else:\n",
    "            print(\"Please enter a positive integer.\")\n",
    "    except ValueError:\n",
    "        print(\"Invalid input. Please enter a positive integer.\")\n",
    "\n",
    "# Main loop for the chaos game\n",
    "for i in range(num_steps):\n",
    "# Choose a random vertex (index 0, 1, or 2) to move towards\n",
    " #choose a random vertex to move toward from the list 'vertices'\n",
    " # You can use the python code random.randint(0, 2) to\n",
    " # choose a random integer between 0 and 2. Then you can use\n",
    " #that random integer as the index for a vertex.\n",
    " # your code should look like \"next_vertex = vertex[ a random choice of index]\"\n",
    "    next_vertex_index = random.randint(0, 2)\n",
    "    next_vertex = vertices[next_vertex_index]\n",
    "    \n",
    "    # Get the last point in the list of points\n",
    "    last_point = points[-1]\n",
    "    \n",
    "    # Move halfway towards the chosen vertex (midpoint formula)\n",
    "    next_point = (\n",
    "        (last_point[0] + next_vertex[0]) / 2,\n",
    "        (last_point[1] + next_vertex[1]) / 2\n",
    "    )\n",
    "    \n",
    "    # Add the new point to the list of points\n",
    "    points.append(next_point)\n",
    "\n",
    "# Function to plot the solution set\n",
    "def plot_solution(points):\n",
    "    # Only start plotting points after the 12th step\n",
    "    plt.scatter([p[0] for p in points[12:]], [p[1] for p in points[12:]], s=0.1)\n",
    "    plt.show()\n",
    "\n",
    "# Plot your points\n",
    "plot_solution(points)"
   ]
  },
  {
   "cell_type": "code",
   "execution_count": null,
   "id": "572bd4ba-ddee-4b03-8a9c-34647c5ea519",
   "metadata": {},
   "outputs": [],
   "source": [
    "# It it possible to observe the fractal pattern with a large number of steps (in this case, 1000)."
   ]
  }
 ],
 "metadata": {
  "kernelspec": {
   "display_name": "Python 3 (ipykernel)",
   "language": "python",
   "name": "python3"
  },
  "language_info": {
   "codemirror_mode": {
    "name": "ipython",
    "version": 3
   },
   "file_extension": ".py",
   "mimetype": "text/x-python",
   "name": "python",
   "nbconvert_exporter": "python",
   "pygments_lexer": "ipython3",
   "version": "3.12.8"
  }
 },
 "nbformat": 4,
 "nbformat_minor": 5
}
